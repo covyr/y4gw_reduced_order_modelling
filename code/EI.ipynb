{
 "cells": [
  {
   "cell_type": "code",
   "execution_count": 2,
   "id": "be202ec0-e1fe-472f-bb8b-407b47a871ca",
   "metadata": {
    "tags": []
   },
   "outputs": [],
   "source": [
    "%load_ext autoreload\n",
    "%autoreload"
   ]
  },
  {
   "cell_type": "code",
   "execution_count": 3,
   "id": "7defcfce-447d-4e3d-b975-e590f76b9935",
   "metadata": {
    "tags": []
   },
   "outputs": [
    {
     "name": "stderr",
     "output_type": "stream",
     "text": [
      "PyCBC.libutils: pkg-config call failed, setting NO_PKGCONFIG=1\n"
     ]
    }
   ],
   "source": [
    "import numpy as np\n",
    "import crc\n",
    "import matplotlib.pyplot as plt\n",
    "import matplotlib.colors as mcolors"
   ]
  },
  {
   "cell_type": "code",
   "execution_count": 4,
   "id": "ef5b2c0e-9967-4931-89cb-0628a287b1fc",
   "metadata": {
    "tags": []
   },
   "outputs": [],
   "source": [
    "x = np.linspace(-1, 1, 1001)\n",
    "vectors = [{n : x**n for n in range(1000)}]\n",
    "V = {}\n",
    "for vec in vectors:\n",
    "    V.update(vec)"
   ]
  },
  {
   "cell_type": "code",
   "execution_count": 5,
   "id": "23cb5609-ffc2-459d-898a-325825dd3fd6",
   "metadata": {
    "tags": []
   },
   "outputs": [
    {
     "name": "stdout",
     "output_type": "stream",
     "text": [
      "TOLERANCE of 1e-15 MET: 49/1000 vectors in reduced basis\n"
     ]
    }
   ],
   "source": [
    "rb, errors = crc.RB(V, x, 10**(-15), False)"
   ]
  },
  {
   "cell_type": "code",
   "execution_count": 7,
   "id": "c8beaf8b-306f-46e6-82bf-94a9dd7bf715",
   "metadata": {
    "tags": []
   },
   "outputs": [],
   "source": [
    "%autoreload\n",
    "indexes, nodes, B = crc.EI(rb, x)"
   ]
  },
  {
   "cell_type": "code",
   "execution_count": 8,
   "id": "14435432-7320-47e6-8a89-216535274e9e",
   "metadata": {
    "tags": []
   },
   "outputs": [
    {
     "data": {
      "image/png": "[encoded data removed]",
      "text/plain": [
       "<Figure size 1200x100 with 1 Axes>"
      ]
     },
     "metadata": {},
     "output_type": "display_data"
    }
   ],
   "source": [
    "crc.check_nodes(nodes)"
   ]
  },
  {
   "cell_type": "code",
   "execution_count": 9,
   "id": "433e3117-969c-4395-b739-fbdde90b4c09",
   "metadata": {
    "tags": []
   },
   "outputs": [],
   "source": [
    "empirical_interpolants = {}\n",
    "for k in rb:\n",
    "    ei = crc.EI_h(B, rb[k], indexes, x)\n",
    "    empirical_interpolants.update({k : ei})"
   ]
  },
  {
   "cell_type": "code",
   "execution_count": 10,
   "id": "591a93e5-61d9-4390-b09b-3b4997ce196a",
   "metadata": {},
   "outputs": [
    {
     "name": "stdout",
     "output_type": "stream",
     "text": [
      "worst mismatch is 10^(-17.73205748693133)\n"
     ]
    }
   ],
   "source": [
    "crc.test_EI(empirical_interpolants, rb, x)"
   ]
  },
  {
   "cell_type": "code",
   "execution_count": null,
   "id": "315f4498-9bb3-4b26-ab1a-4f2909885628",
   "metadata": {
    "tags": []
   },
   "outputs": [],
   "source": [
    "# fig, axs = plt.subplots(nrows=len(rb), ncols=1, figsize=(12, 2*len(rb)))\n",
    "# for j, k in enumerate(rb):\n",
    "#     axs[j].set_title(f'$<h_{{{j}}}, e_{{{j}}}> =$ {crc.dot(empirical_interpolants[k], rb[k], x)}')\n",
    "#     axs[j].plot(x, rb[k]/np.sqrt(k+1/2), color='red')\n",
    "#     axs[j].plot(x, empirical_interpolants[k]/np.sqrt(k+1/2), color='teal')\n",
    "#     axs[j].scatter(nodes, [empirical_interpolants[k][n]/np.sqrt(k+1/2) for n in indexes], marker='x', color='k', zorder=2)\n",
    "#     axs[j].set_xlim(-1, 1)\n",
    "#     axs[j].set_ylim(-2, 2)    \n",
    "# fig.tight_layout()"
   ]
  },
  {
   "cell_type": "code",
   "execution_count": 13,
   "id": "913e5423-e93d-42a7-a0b2-a88c2fb8b8d0",
   "metadata": {},
   "outputs": [
    {
     "data": {
      "text/plain": [
       "1001"
      ]
     },
     "execution_count": 13,
     "metadata": {},
     "output_type": "execute_result"
    }
   ],
   "source": [
    "len(list(empirical_interpolants[0]))"
   ]
  },
  {
   "cell_type": "code",
   "execution_count": 14,
   "id": "c4fff0b6-9060-4c54-8bc2-85dbb84bcc36",
   "metadata": {
    "tags": []
   },
   "outputs": [
    {
     "data": {
      "text/plain": [
       "1001"
      ]
     },
     "execution_count": 14,
     "metadata": {},
     "output_type": "execute_result"
    }
   ],
   "source": [
    "len(list(rb[0]))"
   ]
  },
  {
   "cell_type": "code",
   "execution_count": 19,
   "id": "c554a7df-a95f-43a8-ab34-e1c96b6c5a9b",
   "metadata": {
    "tags": []
   },
   "outputs": [
    {
     "data": {
      "text/plain": [
       "(1001, 49)"
      ]
     },
     "execution_count": 19,
     "metadata": {},
     "output_type": "execute_result"
    }
   ],
   "source": [
    "B.shape"
   ]
  },
  {
   "cell_type": "code",
   "execution_count": null,
   "id": "69563ed9-9b9d-4937-92af-cd391ac1da72",
   "metadata": {},
   "outputs": [],
   "source": []
  }
 ],
 "metadata": {
  "kernelspec": {
   "display_name": "Python 3 (ipykernel)",
   "language": "python",
   "name": "python3"
  },
  "language_info": {
   "codemirror_mode": {
    "name": "ipython",
    "version": 3
   },
   "file_extension": ".py",
   "mimetype": "text/x-python",
   "name": "python",
   "nbconvert_exporter": "python",
   "pygments_lexer": "ipython3",
   "version": "3.9.18"
  }
 },
 "nbformat": 4,
 "nbformat_minor": 5
}
