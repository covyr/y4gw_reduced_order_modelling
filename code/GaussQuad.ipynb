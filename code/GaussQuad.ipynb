{
 "cells": [
  {
   "cell_type": "code",
   "execution_count": 26,
   "id": "82c1bd20-345a-49ec-9283-3de3dd8a012e",
   "metadata": {},
   "outputs": [],
   "source": [
    "import numpy as np\n",
    "import crc"
   ]
  },
  {
   "cell_type": "code",
   "execution_count": 2,
   "id": "4c1dab9b-5fa1-491c-a6f8-1814cffdae87",
   "metadata": {},
   "outputs": [],
   "source": [
    "### Integration via 2-point Gaussian Quadrature and Gaussian-Legendre Quadrature.\n",
    "# Made function \" GaussQuad(func, a, b, n) \" to do this.\n",
    "# This function has been added to crc.py"
   ]
  },
  {
   "cell_type": "code",
   "execution_count": 22,
   "id": "9287fe32-abbf-4467-998c-b1d27fa7ceea",
   "metadata": {},
   "outputs": [
    {
     "name": "stdout",
     "output_type": "stream",
     "text": [
      "2 2.6666666666666665\n",
      "3 2.6666666666666665\n",
      "4 2.666666666666666\n",
      "5 2.666666666666661\n",
      "6 2.666666666666667\n",
      "7 2.6666666666666643\n",
      "8 2.6666666666666563\n",
      "9 2.666666666666665\n",
      "10 2.666666666666663\n",
      "11 2.6666666666666634\n",
      "12 2.66666666666666\n",
      "13 2.666666666666683\n",
      "14 2.666666666666673\n",
      "15 2.6666666666666528\n",
      "16 2.666666666666659\n",
      "17 2.6666666666666647\n",
      "18 2.6666666666666705\n",
      "19 2.6666666666666665\n",
      "20 2.6666666666666585\n",
      "21 2.666666666666654\n",
      "22 2.6666666666666394\n",
      "23 2.6666666666666767\n",
      "24 2.6666666666666496\n",
      "25 2.6666666666666634\n",
      "26 2.6666666666666763\n",
      "27 2.666666666666663\n",
      "28 2.666666666666657\n",
      "29 2.66666666666667\n"
     ]
    }
   ],
   "source": [
    "# a. Integrate x^2 between [0,2]. Should be ~ 2.6667.\n",
    "func = lambda x: x**2\n",
    "a = 0\n",
    "b = 2\n",
    "data = [[], []]\n",
    "for n in range(2, 30):\n",
    "    I = crc.GaussQuad(func, a, b, n)\n",
    "    print(n, I)"
   ]
  },
  {
   "cell_type": "code",
   "execution_count": 23,
   "id": "768824e0-55d2-40bf-bf60-7388fd698b43",
   "metadata": {},
   "outputs": [
    {
     "name": "stdout",
     "output_type": "stream",
     "text": [
      "3 0.14574148380194368\n",
      "4 1.5827643359348826\n",
      "5 -0.20291204329331655\n",
      "6 1.2010559617566836\n",
      "7 0.436692298885985\n",
      "8 -0.5101084964249634\n",
      "9 1.273390991433487\n",
      "10 0.14680397392900324\n",
      "11 0.4002661123978534\n",
      "12 0.4637702753359829\n",
      "13 0.4111687965026442\n",
      "14 0.42197214028808583\n",
      "15 0.4225760391604728\n",
      "16 0.42189092216485125\n",
      "17 0.4219985981366612\n",
      "18 0.42200347641996844\n",
      "19 0.421999675379343\n",
      "20 0.4220000772952174\n",
      "21 0.4220001062357849\n",
      "22 0.4220000957556136\n",
      "23 0.42200009638397273\n",
      "24 0.42200009646942716\n",
      "25 0.4220000964541599\n",
      "26 0.4220000964544661\n",
      "27 0.42200009645459424\n",
      "28 0.42200009645458947\n",
      "29 0.4220000964545836\n"
     ]
    }
   ],
   "source": [
    "#b. Integrate Cos[x] Sin[x^2] between [0,5]. Should be ~ 0.422.\n",
    "func = lambda x: np.cos(x) * np.sin(x**2)\n",
    "a = 0\n",
    "b = 5\n",
    "data = [[], []]\n",
    "for n in range(3, 30):\n",
    "    I = crc.GaussQuad(func, a, b, n)\n",
    "    print(n, I)"
   ]
  },
  {
   "cell_type": "code",
   "execution_count": 24,
   "id": "d92ec915-0dbd-4492-9aa0-329eeb68f167",
   "metadata": {},
   "outputs": [],
   "source": [
    "# Checking some other functions."
   ]
  },
  {
   "cell_type": "code",
   "execution_count": 25,
   "id": "61b8e07a-d680-4c4e-a3dd-8b323115e18d",
   "metadata": {},
   "outputs": [
    {
     "name": "stdout",
     "output_type": "stream",
     "text": [
      "2 138.62135352536149\n",
      "3 146.42644151771353\n",
      "4 146.75690063962594\n",
      "5 146.76433289636665\n",
      "6 146.76443683336024\n",
      "7 146.76443782497356\n",
      "8 146.76443783183947\n",
      "9 146.7644378318762\n",
      "10 146.7644378318762\n",
      "11 146.76443783187617\n",
      "12 146.76443783187608\n",
      "13 146.7644378318778\n",
      "14 146.76443783187713\n",
      "15 146.7644378318754\n",
      "16 146.7644378318759\n",
      "17 146.76443783187636\n",
      "18 146.76443783187682\n",
      "19 146.76443783187645\n",
      "20 146.76443783187588\n",
      "21 146.7644378318753\n",
      "22 146.7644378318743\n",
      "23 146.76443783187716\n",
      "24 146.76443783187506\n",
      "25 146.76443783187617\n",
      "26 146.7644378318773\n",
      "27 146.76443783187634\n",
      "28 146.76443783187568\n",
      "29 146.76443783187682\n"
     ]
    }
   ],
   "source": [
    "func = lambda x: np.exp(x)\n",
    "# func = lambda x: np.log(x)\n",
    "a = 0.5\n",
    "b = 5\n",
    "data = [[], []]\n",
    "for n in range(2, 30):\n",
    "    I = crc.GaussQuad(func, a, b, n)\n",
    "    print(n, I)"
   ]
  },
  {
   "cell_type": "code",
   "execution_count": null,
   "id": "c55c0ce7-e947-46e6-b533-99ce12e91491",
   "metadata": {},
   "outputs": [],
   "source": []
  },
  {
   "cell_type": "code",
   "execution_count": null,
   "id": "33f1cbf0-1d99-4b8f-b5f5-87e45220d17a",
   "metadata": {},
   "outputs": [],
   "source": []
  }
 ],
 "metadata": {
  "kernelspec": {
   "display_name": "Python 3 (ipykernel)",
   "language": "python",
   "name": "python3"
  },
  "language_info": {
   "codemirror_mode": {
    "name": "ipython",
    "version": 3
   },
   "file_extension": ".py",
   "mimetype": "text/x-python",
   "name": "python",
   "nbconvert_exporter": "python",
   "pygments_lexer": "ipython3",
   "version": "3.9.18"
  }
 },
 "nbformat": 4,
 "nbformat_minor": 5
}
