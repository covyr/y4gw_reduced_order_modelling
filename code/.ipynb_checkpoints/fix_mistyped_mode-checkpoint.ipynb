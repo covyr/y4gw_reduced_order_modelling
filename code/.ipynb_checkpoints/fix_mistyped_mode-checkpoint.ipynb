{
 "cells": [
  {
   "cell_type": "code",
   "execution_count": 1,
   "id": "54b3dd88-889d-4e8e-8820-4a6d1a3bbd41",
   "metadata": {},
   "outputs": [],
   "source": [
    "import os"
   ]
  },
  {
   "cell_type": "code",
   "execution_count": 27,
   "id": "b4509c59-e171-4448-9bbb-9e91d2520a23",
   "metadata": {},
   "outputs": [],
   "source": [
    "def i_mistyped_a_mode(mode: str) -> None:\n",
    "\n",
    "    \"\"\"\n",
    "    i mistyped the 4,3 mode as 4,1 and now i have to rename all my 4,1 directories\n",
    "    \"\"\"\n",
    "        \n",
    "    mode = mode.replace(',', '_')\n",
    "    correction = '4,3'.replace(',', '_')\n",
    "\n",
    "    for scenario in ['NS', 'AS', 'P']:\n",
    "        for n in [0, 1, 2, 3]:\n",
    "            for obj in ['datasets_new', 'figs', 'stats', 'treasure']:\n",
    "                dir_mistake = f\"../{obj}/{scenario}/{n}/{mode}\"\n",
    "                if os.path.isdir(f\"{dir_mistake}/\"):\n",
    "                    dir_correction = f\"../{obj}/{scenario}/{n}/{correction}\"\n",
    "                    os.rename(dir_mistake, dir_correction)\n",
    "                    \n",
    "    return"
   ]
  },
  {
   "cell_type": "code",
   "execution_count": 28,
   "id": "9c3a878a-877f-4f58-badc-6a9786c37277",
   "metadata": {},
   "outputs": [],
   "source": [
    "i_mistyped_a_mode('4,1')"
   ]
  },
  {
   "cell_type": "code",
   "execution_count": null,
   "id": "7093226c-4169-4f0e-9d4c-d70ee6a817d6",
   "metadata": {},
   "outputs": [],
   "source": []
  }
 ],
 "metadata": {
  "kernelspec": {
   "display_name": "Python",
   "language": "python",
   "name": "sys_python"
  },
  "language_info": {
   "codemirror_mode": {
    "name": "ipython",
    "version": 3
   },
   "file_extension": ".py",
   "mimetype": "text/x-python",
   "name": "python",
   "nbconvert_exporter": "python",
   "pygments_lexer": "ipython3",
   "version": "3.10.4"
  }
 },
 "nbformat": 4,
 "nbformat_minor": 5
}
