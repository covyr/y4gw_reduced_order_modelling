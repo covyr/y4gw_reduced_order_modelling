{
 "cells": [
  {
   "cell_type": "code",
   "execution_count": 1,
   "id": "767273be-4c64-4463-9260-e7ec0e112093",
   "metadata": {
    "tags": []
   },
   "outputs": [],
   "source": [
    "%load_ext autoreload\n",
    "%autoreload"
   ]
  },
  {
   "cell_type": "code",
   "execution_count": 2,
   "id": "1acb4458-f1b7-4d4a-b594-98de9b14a671",
   "metadata": {
    "tags": []
   },
   "outputs": [],
   "source": [
    "import warnings\n",
    "warnings.filterwarnings(\"ignore\", \"Wswiglal-redir-stdio\")\n",
    "warnings.filterwarnings(\"ignore\", \"external/local_xla/xla/\")\n",
    "warnings.filterwarnings(\"ignore\", \"TensorRT\")\n",
    "import logging\n",
    "logging.getLogger('tensorflow').setLevel(logging.ERROR)\n",
    "\n",
    "import numpy as np\n",
    "import crc"
   ]
  },
  {
   "cell_type": "code",
   "execution_count": 4,
   "id": "b4f76f01-6e2e-481a-b623-fcff38e541eb",
   "metadata": {
    "tags": []
   },
   "outputs": [],
   "source": [
    "N     = 0\n",
    "q_0   = np.linspace(1, 10, 1000) # train          : 1,000\n",
    "q_1   = np.linspace(1.0045, 10.0045, 1000) # test : 1,000\n",
    "q_2   = np.linspace(1, 10, 10000) # dense train   : 10,000\n",
    "q_3   = np.linspace(1, 10, 2**16) # DENSE train   : 65,536 = 2**16\n",
    "q_4   = np.linspace(1, 10, 10)\n",
    "q     = [q_0, q_1, q_2, q_3, q_4] \n",
    "time  = np.linspace(-5000, 250, 5251)\n",
    "modes = [\n",
    "    '2,2', \n",
    "    # '3,3', \n",
    "    # '3,2', \n",
    "    # '4,4', \n",
    "    # '4,3',\n",
    "    # '5,5'\n",
    "]\n",
    "PRECESSING = True"
   ]
  },
  {
   "cell_type": "code",
   "execution_count": 5,
   "id": "760e42d8-f781-4c5f-91b8-7a836935281c",
   "metadata": {},
   "outputs": [],
   "source": [
    "# np.save(f\"../datasets_new/spinless/time.npy\", time)"
   ]
  },
  {
   "cell_type": "code",
   "execution_count": 280,
   "id": "1b032864-f7c8-470a-a589-1ec4abec12b1",
   "metadata": {
    "tags": []
   },
   "outputs": [],
   "source": [
    "if not PRECESSING:\n",
    "    wf_input = {\n",
    "        'q'                 : q[N],\n",
    "        'chi_1z'            : 0,\n",
    "        'chi_2z'            : 0,\n",
    "        'omega0'            : 0.015,\n",
    "        'time'              : time,\n",
    "        'modes_to_generate' : modes,\n",
    "        'spin'              : False,\n",
    "        'N'                 : N\n",
    "    }\n",
    "elif PRECESSING:\n",
    "    wf_input = {\n",
    "        'q'                 : q[N],\n",
    "        'chi_1x' : chi_1x, 'chi_1y' : chi_1y, 'chi_1z' : chi_1z,\n",
    "        'chi_2x' : chi_2x, 'chi_2y' : chi_2y, 'chi_2z' : chi_2z,\n",
    "        'omega0'            : 0.015,\n",
    "        'time'              : time,\n",
    "        'modes_to_generate' : modes,\n",
    "        'spin'              : False,\n",
    "        'N'                 : N\n",
    "    }"
   ]
  },
  {
   "cell_type": "code",
   "execution_count": 286,
   "id": "1abc5dfd-ca5f-4a77-99ae-0ddd2c79e2de",
   "metadata": {},
   "outputs": [],
   "source": [
    "spin_tag = \"spin\" if wf_input['spin'] else \"spinless\""
   ]
  },
  {
   "cell_type": "code",
   "execution_count": 1,
   "id": "57865916-c7eb-44cd-a3c6-d41faa1adc66",
   "metadata": {},
   "outputs": [
    {
     "ename": "NameError",
     "evalue": "name 'crc' is not defined",
     "output_type": "error",
     "traceback": [
      "\u001b[0;31m---------------------------------------------------------------------------\u001b[0m",
      "\u001b[0;31mNameError\u001b[0m                                 Traceback (most recent call last)",
      "Cell \u001b[0;32mIn[1], line 1\u001b[0m\n\u001b[0;32m----> 1\u001b[0m crc\u001b[38;5;241m.\u001b[39mbuild_directories(spin_tag, wf_input[\u001b[38;5;124m'\u001b[39m\u001b[38;5;124mN\u001b[39m\u001b[38;5;124m'\u001b[39m], modes\u001b[38;5;241m=\u001b[39mwf_input[\u001b[38;5;124m'\u001b[39m\u001b[38;5;124mmodes_to_generate\u001b[39m\u001b[38;5;124m'\u001b[39m])\n\u001b[1;32m      2\u001b[0m crc\u001b[38;5;241m.\u001b[39mmake_params(wf_input[\u001b[38;5;124m'\u001b[39m\u001b[38;5;124mspin\u001b[39m\u001b[38;5;124m'\u001b[39m], wf_input[\u001b[38;5;124m'\u001b[39m\u001b[38;5;124mN\u001b[39m\u001b[38;5;124m'\u001b[39m], wf_input[\u001b[38;5;124m'\u001b[39m\u001b[38;5;124mq\u001b[39m\u001b[38;5;124m'\u001b[39m], wf_input[\u001b[38;5;124m'\u001b[39m\u001b[38;5;124mchi_1z\u001b[39m\u001b[38;5;124m'\u001b[39m], wf_input[\u001b[38;5;124m'\u001b[39m\u001b[38;5;124mchi_2z\u001b[39m\u001b[38;5;124m'\u001b[39m])\n\u001b[1;32m      3\u001b[0m crc\u001b[38;5;241m.\u001b[39mgenerate_waveforms_SEOBNRv5HM_to_save(\u001b[38;5;241m*\u001b[39m\u001b[38;5;241m*\u001b[39mwf_input)\n",
      "\u001b[0;31mNameError\u001b[0m: name 'crc' is not defined"
     ]
    }
   ],
   "source": [
    "crc.build_directories(spin_tag, wf_input['N'], modes=wf_input['modes_to_generate'])\n",
    "crc.make_params(wf_input['spin'], wf_input['N'], wf_input['q'], wf_input['chi_1z'], wf_input['chi_2z'])\n",
    "crc.generate_waveforms_SEOBNRv5HM_to_save(**wf_input)"
   ]
  },
  {
   "cell_type": "code",
   "execution_count": 290,
   "id": "21aa2851-b4d9-4658-9936-5e7cb98492d4",
   "metadata": {},
   "outputs": [],
   "source": [
    "waveforms = crc.load_waveforms('2,2', 0, spin=False, aligned=False)"
   ]
  },
  {
   "cell_type": "code",
   "execution_count": 195,
   "id": "c987be04-75a8-48da-a2b9-1e13e2db6ba5",
   "metadata": {},
   "outputs": [],
   "source": [
    "# import pyseobnr"
   ]
  },
  {
   "cell_type": "code",
   "execution_count": 196,
   "id": "43950539-351b-4350-9fca-4cab0d918714",
   "metadata": {},
   "outputs": [],
   "source": [
    "# t, modes_generated, data = pyseobnr.generate_waveform.generate_modes_opt(\n",
    "#             4, 0, 0, 0.015,\n",
    "#             omega_ref   = 0.015,\n",
    "#             approximant = 'SEOBNRv5HM',\n",
    "#             settings    = None,\n",
    "#             debug       = True\n",
    "# )\n",
    "# h = crc.interpolate(modes_generated['2,2'], t, time)\n",
    "# h"
   ]
  },
  {
   "cell_type": "code",
   "execution_count": 197,
   "id": "eb9afd32-ba6a-4eb2-88bc-6dfd605119c3",
   "metadata": {
    "tags": []
   },
   "outputs": [
    {
     "name": "stdout",
     "output_type": "stream",
     "text": [
      "The autoreload extension is already loaded. To reload it, use:\n",
      "  %reload_ext autoreload\n",
      "Generation finished.\n"
     ]
    }
   ],
   "source": [
    "%load_ext autoreload\n",
    "%autoreload\n",
    "waveforms = crc.generate_waveforms_SEOBNRv5HM(**wf_input)"
   ]
  },
  {
   "cell_type": "code",
   "execution_count": 198,
   "id": "aeb26a81-240e-41ab-b072-f55955b63193",
   "metadata": {},
   "outputs": [],
   "source": [
    "# crc.add_A_phi(waveforms)"
   ]
  },
  {
   "cell_type": "code",
   "execution_count": 199,
   "id": "a4280e1e-97b6-4c39-b4bc-df4195ab6906",
   "metadata": {
    "tags": []
   },
   "outputs": [],
   "source": [
    "# crc.save_waveforms(waveforms, wf_input['time'], N, False, wf_input)"
   ]
  },
  {
   "cell_type": "code",
   "execution_count": 18,
   "id": "3de431ca-e3b1-44a9-9d48-d35c58a6e93f",
   "metadata": {},
   "outputs": [],
   "source": [
    "import matplotlib.pyplot as plt"
   ]
  },
  {
   "cell_type": "code",
   "execution_count": null,
   "id": "2c0bd670-15e6-48c3-b387-bce9d6004b44",
   "metadata": {},
   "outputs": [],
   "source": [
    "waveforms = crc.add_A_phi(waveforms)"
   ]
  },
  {
   "cell_type": "code",
   "execution_count": 190,
   "id": "af1a0ec8-1733-4f70-a813-8694d4f1be5e",
   "metadata": {},
   "outputs": [
    {
     "data": {
      "image/png": "[encoded data removed]",
      "text/plain": [
       "<Figure size 1000x300 with 1 Axes>"
      ]
     },
     "metadata": {},
     "output_type": "display_data"
    }
   ],
   "source": [
    "fig, axs = plt.subplots(1, 1, figsize=(10,3))\n",
    "for i, wf_dict in waveforms['2,2'].items():\n",
    "    axs.plot(time, wf_dict['wf']['A'])\n",
    "# ax.plot(time, waveforms['2,2'][1]['wf']['A'])"
   ]
  },
  {
   "cell_type": "code",
   "execution_count": null,
   "id": "706da256-f269-47bc-9894-0cbdd78003e4",
   "metadata": {},
   "outputs": [],
   "source": []
  }
 ],
 "metadata": {
  "kernelspec": {
   "display_name": "igwn-py311-2023 (Conda)",
   "language": "python",
   "name": "sys_igwn-py311-2023"
  },
  "language_info": {
   "codemirror_mode": {
    "name": "ipython",
    "version": 3
   },
   "file_extension": ".py",
   "mimetype": "text/x-python",
   "name": "python",
   "nbconvert_exporter": "python",
   "pygments_lexer": "ipython3",
   "version": "3.11.6"
  }
 },
 "nbformat": 4,
 "nbformat_minor": 5
}
