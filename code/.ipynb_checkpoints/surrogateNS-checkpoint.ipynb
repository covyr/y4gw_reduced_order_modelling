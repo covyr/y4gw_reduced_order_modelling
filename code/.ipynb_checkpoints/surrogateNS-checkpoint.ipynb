{
 "cells": [
  {
   "cell_type": "code",
   "execution_count": null,
   "id": "a5ee1e68-21cf-48fd-9a9d-5fb189aed993",
   "metadata": {},
   "outputs": [],
   "source": [
    "%reset -f\n",
    "%load_ext autoreload\n",
    "%autoreload"
   ]
  },
  {
   "cell_type": "code",
   "execution_count": null,
   "id": "a3c0e3a0-0667-4601-82c6-ba42aa7149ce",
   "metadata": {},
   "outputs": [],
   "source": [
    "import numpy as np\n",
    "import crc\n",
    "import tensorflow as tf\n",
    "import keras\n",
    "from sklearn import preprocessing\n",
    "import pickle\n",
    "import time"
   ]
  },
  {
   "cell_type": "code",
   "execution_count": null,
   "id": "71068a63-56d4-4111-858f-b135ee7ef9dd",
   "metadata": {},
   "outputs": [],
   "source": [
    "scenario = 'NS'\n",
    "n = 3\n",
    "# modes = ['2,2', '2,1', '3,3', '3,2', '4,4', '4,3']\n",
    "modes = ['2,2', '4,3', '4,4']"
   ]
  },
  {
   "cell_type": "code",
   "execution_count": null,
   "id": "e7495626-4005-441b-b9dd-dda14b130ef0",
   "metadata": {},
   "outputs": [],
   "source": [
    "# time_indexes, B  = {'A': {}, 'phi': {}}, {'A': {}, 'phi': {}}\n",
    "# models, yscalers = {'A': {}, 'phi': {}}, {'A': {}, 'phi': {}}\n",
    "# for mode in modes:\n",
    "#     for component in time_indexes:\n",
    "#         _, time_indexes[component][mode], B[component][mode] = crc.load_bits('NS', mode, n, component)\n",
    "#         with open(f\"../models/scaler{scenario}{n}_{mode.replace(',', '_')}_{component}.pickle\", 'rb') as infile:\n",
    "#             yscaler_comp = pickle.load(infile)\n",
    "#             yscalers[component][mode] = infile\n",
    "#         models[component][mode] = tf.keras.saving.load_model(f\"../models/model{scenario}{n}_{mode.replace(',', '_')}_{component}.keras\")"
   ]
  },
  {
   "cell_type": "code",
   "execution_count": 1,
   "id": "db0ccb5a-2bcc-427d-8859-b3378a369e98",
   "metadata": {},
   "outputs": [
    {
     "ename": "NameError",
     "evalue": "name 'np' is not defined",
     "output_type": "error",
     "traceback": [
      "\u001b[0;31m---------------------------------------------------------------------------\u001b[0m",
      "\u001b[0;31mNameError\u001b[0m                                 Traceback (most recent call last)",
      "Cell \u001b[0;32mIn[1], line 1\u001b[0m\n\u001b[0;32m----> 1\u001b[0m \u001b[38;5;28;01mdef\u001b[39;00m \u001b[38;5;21mSEOBNRv5_CRCNS\u001b[39m(params: np\u001b[38;5;241m.\u001b[39mndarray, modes: \u001b[38;5;28mlist\u001b[39m \u001b[38;5;241m=\u001b[39m [\u001b[38;5;124m'\u001b[39m\u001b[38;5;124m2,2\u001b[39m\u001b[38;5;124m'\u001b[39m, \u001b[38;5;124m'\u001b[39m\u001b[38;5;124m2,1\u001b[39m\u001b[38;5;124m'\u001b[39m, \u001b[38;5;124m'\u001b[39m\u001b[38;5;124m3,3\u001b[39m\u001b[38;5;124m'\u001b[39m, \u001b[38;5;124m'\u001b[39m\u001b[38;5;124m3,2\u001b[39m\u001b[38;5;124m'\u001b[39m, \u001b[38;5;124m'\u001b[39m\u001b[38;5;124m4,4\u001b[39m\u001b[38;5;124m'\u001b[39m, \u001b[38;5;124m'\u001b[39m\u001b[38;5;124m4,3\u001b[39m\u001b[38;5;124m'\u001b[39m]) \u001b[38;5;241m-\u001b[39m\u001b[38;5;241m>\u001b[39m np\u001b[38;5;241m.\u001b[39mndarray:\n\u001b[1;32m      2\u001b[0m \n\u001b[1;32m      3\u001b[0m     \u001b[38;5;66;03m# loading bits \u001b[39;00m\n\u001b[1;32m      4\u001b[0m     TIME \u001b[38;5;241m=\u001b[39m crc\u001b[38;5;241m.\u001b[39mGET_TIME()\n\u001b[1;32m      5\u001b[0m     time_indexes, B \u001b[38;5;241m=\u001b[39m {\u001b[38;5;124m'\u001b[39m\u001b[38;5;124mA\u001b[39m\u001b[38;5;124m'\u001b[39m: {}, \u001b[38;5;124m'\u001b[39m\u001b[38;5;124mphi\u001b[39m\u001b[38;5;124m'\u001b[39m: {}}, {\u001b[38;5;124m'\u001b[39m\u001b[38;5;124mA\u001b[39m\u001b[38;5;124m'\u001b[39m: {}, \u001b[38;5;124m'\u001b[39m\u001b[38;5;124mphi\u001b[39m\u001b[38;5;124m'\u001b[39m: {}}\n",
      "\u001b[0;31mNameError\u001b[0m: name 'np' is not defined"
     ]
    }
   ],
   "source": [
    "def SEOBNRv5_CRCNS(params: np.ndarray, modes: list = ['2,2', '2,1', '3,3', '3,2', '4,4', '4,3']) -> np.ndarray:\n",
    "\n",
    "    # loading bits \n",
    "    TIME = crc.GET_TIME()\n",
    "    time_indexes, B = {'A': {}, 'phi': {}}, {'A': {}, 'phi': {}}\n",
    "    ANNs, scalers   = {'A': {}, 'phi': {}}, {'A': {}, 'phi': {}}\n",
    "    for mode in modes:\n",
    "        for component in time_indexes:\n",
    "            _, time_indexes[component][mode], B[component][mode] = crc.load_bits('NS', mode, n, component)\n",
    "            with open(f\"../models/scaler{scenario}{n}_{mode.replace(',', '_')}_{component}.pickle\", 'rb') as infile:\n",
    "                scaler_comp = pickle.load(infile)\n",
    "                scalers[component][mode] = scaler_comp\n",
    "            ANNs[component][mode] = tf.keras.saving.load_model(f\"../models/model{scenario}{n}_{mode.replace(',', '_')}_{component}.keras\")\n",
    "\n",
    "    # want to time each mode generation\n",
    "    waveforms, stats = {}, {}\n",
    "    for mode in modes:\n",
    "        # t_i = time.time()\n",
    "        predict_A   = scalers['A'][mode].inverse_transform(ANNs['A'][mode].predict(params))\n",
    "        predict_phi = scalers['phi'][mode].inverse_transform(ANNs['phi'][mode].predict(params))\n",
    "\n",
    "        surrogate_timing = []\n",
    "        reconstructed_full = np.zeros((len(params), len(TIME)), dtype=np.complex128)\n",
    "        for i, q in zip([i for i in range(len(params))], [float(q) for q in params]):\n",
    "            t_i = time.time()\n",
    "            Ih_A                   = crc.EI_h(predict_A[i], B['A'][mode], time_indexes['A'][mode])\n",
    "            Ih_phi                 = crc.EI_h(predict_phi[i], B['phi'][mode], time_indexes['phi'][mode])        \n",
    "            reconstructed_full[i] += Ih_A * np.exp(-1j * Ih_phi)\n",
    "            surrogate_timing.append(time.time() - t_i)\n",
    "        waveforms[mode], stats[mode] = reconstructed_full, np.array(surrogate_timing)\n",
    "        \n",
    "    return waveforms, stats"
   ]
  },
  {
   "cell_type": "code",
   "execution_count": null,
   "id": "a9195291-bcdd-4c8b-9c4d-25f06ff3cc38",
   "metadata": {},
   "outputs": [],
   "source": [
    "# define params\n",
    "params = np.linspace(1, 4, 1000)[:, np.newaxis]"
   ]
  },
  {
   "cell_type": "code",
   "execution_count": null,
   "id": "3d4d8fad-c46e-4b59-870b-19fc588cf060",
   "metadata": {},
   "outputs": [],
   "source": [
    "wf, st = SEOBNRv5_CRCNS(params, modes)"
   ]
  },
  {
   "cell_type": "code",
   "execution_count": null,
   "id": "90bfd2f9-16cd-42ee-a75e-2fee4f742596",
   "metadata": {},
   "outputs": [],
   "source": [
    "st"
   ]
  },
  {
   "cell_type": "code",
   "execution_count": null,
   "id": "ead3ed88-5e29-4e41-8978-c9c403a50903",
   "metadata": {},
   "outputs": [],
   "source": []
  }
 ],
 "metadata": {
  "kernelspec": {
   "display_name": "igwn-py311-2023 (Conda)",
   "language": "python",
   "name": "sys_igwn-py311-2023"
  },
  "language_info": {
   "codemirror_mode": {
    "name": "ipython",
    "version": 3
   },
   "file_extension": ".py",
   "mimetype": "text/x-python",
   "name": "python",
   "nbconvert_exporter": "python",
   "pygments_lexer": "ipython3",
   "version": "3.11.6"
  }
 },
 "nbformat": 4,
 "nbformat_minor": 5
}
