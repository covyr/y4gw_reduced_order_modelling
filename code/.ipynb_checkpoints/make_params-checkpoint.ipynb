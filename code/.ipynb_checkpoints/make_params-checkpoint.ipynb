{
 "cells": [
  {
   "cell_type": "code",
   "execution_count": 1,
   "id": "aa364e95-94ae-4b91-9c42-54eb1547d222",
   "metadata": {},
   "outputs": [],
   "source": [
    "%load_ext autoreload\n",
    "%autoreload"
   ]
  },
  {
   "cell_type": "code",
   "execution_count": 2,
   "id": "773271e9-548b-4f14-89fb-136958200a6a",
   "metadata": {},
   "outputs": [],
   "source": [
    "import numpy as np\n",
    "import crc\n",
    "import matplotlib.pyplot as plt\n",
    "import time"
   ]
  },
  {
   "cell_type": "code",
   "execution_count": 3,
   "id": "fd6f819c-858f-4583-bf10-9e4b6b2f54df",
   "metadata": {},
   "outputs": [],
   "source": [
    "scenario = 'NS'\n",
    "n        = 4"
   ]
  },
  {
   "cell_type": "code",
   "execution_count": 4,
   "id": "65be2671-6a63-417a-b1d6-47fe9782d516",
   "metadata": {},
   "outputs": [],
   "source": [
    "if scenario != 'P':\n",
    "    q_0   = np.linspace(1, 10, 1000) # train          : 1,000\n",
    "    q_1   = np.linspace(1.0045, 10.0045, 1000) # test : 1,000\n",
    "    q_2   = np.linspace(1, 10, 10000) # dense train   : 10,000\n",
    "    q_3   = np.linspace(1, 10, 2 ** 16) # DENSE train : 65,536 = 2**16\n",
    "    q_4   = np.linspace(1, 10, 2 ** 16)  # DENSE train : 65,536 = 2**16\n",
    "    q_    = [q_0, q_1, q_2, q_3, q_4]\n",
    "elif scenario == 'P':\n",
    "    q_0 = np.linspace(1, 4, 1000) # train           : 1,000\n",
    "    q_1 = np.linspace(1.001, 4.001, 1000) # test    : 1,000\n",
    "    q_2 = np.linspace(1, 4, 10000) # dense train    : 10,000\n",
    "    q_3 = np.linspace(1, 4, 2 ** 16)  # DENSE train : 65,536 = 2**16\n",
    "    q_ = [q_0, q_1, q_2, q_3]\n",
    "\n",
    "wf_input = {'q' : q_[n]}\n",
    "big_m = wf_input['q'].shape[0]\n",
    "\n",
    "if scenario == 'AS':\n",
    "    chi_1, chi_2 = np.zeros((big_m, 1)), np.zeros((big_m, 1))\n",
    "    chi_1[:, 0] += crc.sample_r(scenario, n)\n",
    "    chi_2[:, 0] += crc.sample_r(scenario, n)\n",
    "    wf_input.update({'chi_1z': chi_1[:, 0]})\n",
    "    wf_input.update({'chi_2z': chi_2[:, 0]})\n",
    "elif scenario == 'P':\n",
    "    chi_1, chi_2 = np.zeros((big_m, 3)), np.zeros((big_m, 3))\n",
    "    r1, theta1, phi1 = crc.sample_spin(scenario, n)\n",
    "    r2, theta2, phi2 = crc.sample_spin(scenario, n)\n",
    "    x1, y1, z1 = r1*np.sin(theta1)*np.cos(phi1), r1*np.sin(theta1)*np.sin(phi1), r1*np.cos(theta1)\n",
    "    x2, y2, z2 = r2*np.sin(theta2)*np.cos(phi2), r2*np.sin(theta2)*np.sin(phi2), r2*np.cos(theta2)\n",
    "    chi_1 += np.array((x1, y1, z1)).T\n",
    "    chi_2 += np.array((x2, y2, z2)).T\n",
    "    wf_input.update({'chi_1x': chi_1[:, 0]})\n",
    "    wf_input.update({'chi_1y': chi_1[:, 1]})\n",
    "    wf_input.update({'chi_1z': chi_1[:, 2]})\n",
    "    wf_input.update({'chi_2x': chi_2[:, 0]})\n",
    "    wf_input.update({'chi_2y': chi_2[:, 1]})\n",
    "    wf_input.update({'chi_2z': chi_2[:, 2]})"
   ]
  },
  {
   "cell_type": "code",
   "execution_count": 5,
   "id": "c1079ac5-5274-4f19-81fe-9dced443557b",
   "metadata": {},
   "outputs": [
    {
     "name": "stdout",
     "output_type": "stream",
     "text": [
      "The autoreload extension is already loaded. To reload it, use:\n",
      "  %reload_ext autoreload\n",
      "params complete\n",
      "\n",
      "85.892 seconds\n"
     ]
    }
   ],
   "source": [
    "%load_ext autoreload\n",
    "%autoreload\n",
    "t_i = time.time()\n",
    "crc.build_directories(scenario, n)\n",
    "crc.make_params(scenario, n, wf_input)\n",
    "print(f\"\\n{time.time() - t_i:.3f} seconds\")"
   ]
  },
  {
   "cell_type": "code",
   "execution_count": 6,
   "id": "e88e0f7e-cebe-44d0-b737-0f614e6e6750",
   "metadata": {},
   "outputs": [],
   "source": [
    "# # for figure saving\n",
    "# # for scenario in ['NS', 'AS', 'P']:\n",
    "# for scenario in ['NS']:\n",
    "#     # for n in [0, 1, 3, 4]:\n",
    "#     for n in [4]:\n",
    "#         for mode in ['2,2', '2,1', '3,3', '3,2', '4,3', '4,4']:\n",
    "#             for component in ['A', 'phi']:\n",
    "#                 crc.mk_nested_dirs(f\"../figures/{scenario}/{n}/{mode.replace(',', '_')}/{component}\")\n",
    "#                 crc.mk_nested_dirs(f\"../stats/{scenario}/{n}/{mode.replace(',', '_')}/{component}\")\n",
    "#                 crc.mk_nested_dirs(f\"../treasure/{scenario}/{mode.replace(',', '_')}/bits/{component}\")"
   ]
  },
  {
   "cell_type": "code",
   "execution_count": null,
   "id": "609ebd38-80ba-49f8-a222-a1f2f375761f",
   "metadata": {},
   "outputs": [],
   "source": []
  }
 ],
 "metadata": {
  "kernelspec": {
   "display_name": "igwn-py311-2023 (Conda)",
   "language": "python",
   "name": "sys_igwn-py311-2023"
  },
  "language_info": {
   "codemirror_mode": {
    "name": "ipython",
    "version": 3
   },
   "file_extension": ".py",
   "mimetype": "text/x-python",
   "name": "python",
   "nbconvert_exporter": "python",
   "pygments_lexer": "ipython3",
   "version": "3.11.6"
  }
 },
 "nbformat": 4,
 "nbformat_minor": 5
}
