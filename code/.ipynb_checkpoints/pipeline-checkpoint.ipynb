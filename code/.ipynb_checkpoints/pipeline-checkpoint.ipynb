{
 "cells": [
  {
   "cell_type": "code",
   "execution_count": 1,
   "id": "fa2f0408-82d9-4519-91ac-52f279c0ae62",
   "metadata": {},
   "outputs": [],
   "source": [
    "%load_ext autoreload\n",
    "%autoreload"
   ]
  },
  {
   "cell_type": "code",
   "execution_count": 2,
   "id": "7093599a-85cb-4a75-8736-5f108df5c91d",
   "metadata": {},
   "outputs": [],
   "source": [
    "import numpy as np\n",
    "import crc\n",
    "import matplotlib.pyplot as plt\n",
    "import time"
   ]
  },
  {
   "cell_type": "code",
   "execution_count": 3,
   "id": "27c03181-a341-42dd-a547-b55e3f697c52",
   "metadata": {},
   "outputs": [],
   "source": [
    "scenario = 'NS'\n",
    "mode     = '2,2'\n",
    "n        = 2"
   ]
  },
  {
   "cell_type": "code",
   "execution_count": 4,
   "id": "ebb63ce6-e174-4f36-a2b0-1219a7912f53",
   "metadata": {
    "jupyter": {
     "source_hidden": true
    }
   },
   "outputs": [],
   "source": [
    "# if scenario != 'P':\n",
    "#     q_0   = np.linspace(1, 10, 1000) # train          : 1,000\n",
    "#     q_1   = np.linspace(1.0045, 10.0045, 1000) # test : 1,000\n",
    "#     q_2   = np.linspace(1, 10, 10000) # dense train   : 10,000\n",
    "#     q_3   = np.linspace(1, 10, 2 ** 16) # DENSE train : 65,536 = 2**16\n",
    "#     q_    = [q_0, q_1, q_2, q_3]\n",
    "# elif scenario == 'P':\n",
    "#     q_0 = np.linspace(1, 4, 1000) # train           : 1,000\n",
    "#     q_1 = np.linspace(1.001, 4.001, 1000) # test    : 1,000\n",
    "#     q_2 = np.linspace(1, 4, 10000) # dense train    : 10,000\n",
    "#     q_3 = np.linspace(1, 4, 2 ** 16)  # DENSE train : 65,536 = 2**16\n",
    "#     q_ = [q_0, q_1, q_2, q_3]\n",
    "\n",
    "# wf_input = {'q' : q_[n]}\n",
    "\n",
    "# if scenario == 'AS':\n",
    "#     chi_1, chi_2 = np.zeros((len(wf_input['q']), 1)), np.zeros((len(wf_input['q']), 1))\n",
    "#     chi_1[:, 0] += crc.sample_r(n)\n",
    "#     chi_2[:, 0] += crc.sample_r(n)\n",
    "#     wf_input.update({'chi_1z': chi_1[:, 0]})\n",
    "#     wf_input.update({'chi_2z': chi_1[:, 0]})\n",
    "# elif scenario == 'P':\n",
    "#     chi_1, chi_2 = np.zeros((len(wf_input['q']), 3)), np.zeros((len(wf_input['q']), 3))\n",
    "#     r1, theta1, phi1 = crc.sample_spin(n)\n",
    "#     r2, theta2, phi2 = crc.sample_spin(n)\n",
    "#     x1, y1, z1 = r1*np.sin(theta1)*np.cos(phi1), r1*np.sin(theta1)*np.sin(phi1), r1*np.cos(theta1)\n",
    "#     x2, y2, z2 = r2*np.sin(theta2)*np.cos(phi2), r2*np.sin(theta2)*np.sin(phi2), r2*np.cos(theta2)\n",
    "#     chi_1 += np.array((x1, y1, z1)).T\n",
    "#     chi_2 += np.array((x2, y2, z2)).T\n",
    "#     wf_input.update({'chi_1x': chi_1[:, 0]})\n",
    "#     wf_input.update({'chi_1y': chi_1[:, 1]})\n",
    "#     wf_input.update({'chi_1z': chi_1[:, 2]})\n",
    "#     wf_input.update({'chi_2x': chi_1[:, 0]})\n",
    "#     wf_input.update({'chi_2y': chi_1[:, 1]})\n",
    "#     wf_input.update({'chi_2z': chi_1[:, 2]})\n",
    "\n",
    "# # remaining_wf_input = {\n",
    "# #     'omega0'   : 0.015,\n",
    "# #     'scenario' : scenario,\n",
    "# #     'mode'     : mode,\n",
    "# #     'n'        : n\n",
    "# # }\n",
    "\n",
    "# # wf_input.update(remaining_wf_input)"
   ]
  },
  {
   "cell_type": "code",
   "execution_count": 5,
   "id": "d9a1ab56-0772-4ef2-ad5c-865e4f881901",
   "metadata": {},
   "outputs": [],
   "source": [
    "# %load_ext autoreload\n",
    "# %autoreload\n",
    "# t_i = time.time()\n",
    "# crc.build_directories(scenario, n)\n",
    "# crc.make_params(scenario, n, wf_input)\n",
    "# print(f\"\\n{time.time() - t_i:.3f} seconds\")"
   ]
  },
  {
   "cell_type": "code",
   "execution_count": 6,
   "id": "18bdabd9-1053-4f04-a944-66f4eaf7efae",
   "metadata": {},
   "outputs": [],
   "source": [
    "# %load_ext autoreload\n",
    "# %autoreload\n",
    "# t_i = time.time()\n",
    "# crc.generate_waveforms_SEOBNRv5HM_to_save(scenario, n, mode)\n",
    "# print(f\"\\n{time.time() - t_i:.3f} seconds\")"
   ]
  },
  {
   "cell_type": "code",
   "execution_count": 8,
   "id": "3f880f8e-6395-4017-987e-01a912c77d12",
   "metadata": {},
   "outputs": [
    {
     "name": "stdout",
     "output_type": "stream",
     "text": [
      "The autoreload extension is already loaded. To reload it, use:\n",
      "  %reload_ext autoreload\n",
      "\n",
      "116.035 seconds\n"
     ]
    }
   ],
   "source": [
    "%load_ext autoreload\n",
    "%autoreload\n",
    "t_i = time.time()\n",
    "waveforms = crc.add_A_phi(crc.load_waveforms(scenario, n, mode))\n",
    "print(f\"\\n{time.time() - t_i:.3f} seconds\")"
   ]
  },
  {
   "cell_type": "code",
   "execution_count": 8,
   "id": "27e1ae51-784d-411c-800a-ab515530ab7c",
   "metadata": {
    "jupyter": {
     "source_hidden": true
    }
   },
   "outputs": [],
   "source": [
    "# %load_ext autoreload\n",
    "# %autoreload\n",
    "# params = crc.load_params(scenario, n)\n",
    "\n",
    "# fig, axs = plt.subplots(ncols = 1, nrows = len(params), figsize = (10, 3 * len(params)))\n",
    "# for i, param in enumerate(params):\n",
    "#     if len(params) == 1:\n",
    "#         axs.hist(params[param], bins = 10, color = crc.get_colours(), label = f\"{param}\")\n",
    "#         axs.legend()\n",
    "#     elif len(params) > 1:\n",
    "#         axs[i].hist(params[param], bins = 10, color = crc.get_colours(), label = f\"{param}\")\n",
    "#         axs[i].legend()\n",
    "# fig.tight_layout()"
   ]
  },
  {
   "cell_type": "code",
   "execution_count": 9,
   "id": "f8a73dab-310b-460e-a1c9-a5159d6d94a2",
   "metadata": {},
   "outputs": [],
   "source": [
    "# %load_ext autoreload\n",
    "# %autoreload\n",
    "# t_i = time.time()\n",
    "# full, A, phi = crc.reformat(waveforms)\n",
    "# crc.plot_rb(full, crc.GET_TIME())\n",
    "# print(f\"\\n{time.time() - t_i:.3f} seconds\")"
   ]
  },
  {
   "cell_type": "code",
   "execution_count": 19,
   "id": "ea28e2e8-e279-4628-b28f-92dad92e8955",
   "metadata": {},
   "outputs": [
    {
     "name": "stdout",
     "output_type": "stream",
     "text": [
      "The autoreload extension is already loaded. To reload it, use:\n",
      "  %reload_ext autoreload\n",
      "2,2                   \n",
      "A                   \n",
      "RB: constructing 2,2 A reduced basis\n",
      "tolerance met: 6/10000 vectors in reduced basis                  \n",
      "orth: 10^(-16.117)\n",
      "norm: 10^(-15.654)\n",
      "EI: constructing 2,2 A B matrix\n",
      "(5251,)1 / 6x6           \n",
      "5006\n",
      "(2, 2)\n",
      "(5251,)2 / 6x6           \n",
      "(5251,)\n",
      "(5251,)\n",
      "5003\n",
      "(3, 3)\n",
      "(5251,)3 / 6x6           \n",
      "(5251,)\n",
      "(5251,)\n",
      "(5251,)\n",
      "5021\n",
      "(4, 4)\n",
      "(5251,)4 / 6x6           \n",
      "(5251,)\n",
      "(5251,)\n",
      "(5251,)\n",
      "(5251,)\n",
      "5019\n",
      "(5, 5)\n",
      "(5251,)5 / 6x6           \n",
      "(5251,)\n",
      "(5251,)\n",
      "(5251,)\n",
      "(5251,)\n",
      "(5251,)\n",
      "5008\n",
      "(6, 6)\n",
      "(6, 5251)\n",
      "B matrix complete                    \n",
      "saving 2,2 A\n"
     ]
    },
    {
     "ename": "NameError",
     "evalue": "name 'B_log' is not defined",
     "output_type": "error",
     "traceback": [
      "\u001b[0;31m---------------------------------------------------------------------------\u001b[0m",
      "\u001b[0;31mNameError\u001b[0m                                 Traceback (most recent call last)",
      "Cell \u001b[0;32mIn[19], line 4\u001b[0m\n\u001b[1;32m      2\u001b[0m get_ipython()\u001b[38;5;241m.\u001b[39mrun_line_magic(\u001b[38;5;124m'\u001b[39m\u001b[38;5;124mautoreload\u001b[39m\u001b[38;5;124m'\u001b[39m, \u001b[38;5;124m'\u001b[39m\u001b[38;5;124m'\u001b[39m)\n\u001b[1;32m      3\u001b[0m t_i \u001b[38;5;241m=\u001b[39m time\u001b[38;5;241m.\u001b[39mtime()\n\u001b[0;32m----> 4\u001b[0m crc\u001b[38;5;241m.\u001b[39mp1peline(waveforms, scenario, n, mode, tolerance \u001b[38;5;241m=\u001b[39m \u001b[38;5;241m1e-6\u001b[39m, plotting \u001b[38;5;241m=\u001b[39m \u001b[38;5;28;01mTrue\u001b[39;00m, saving \u001b[38;5;241m=\u001b[39m \u001b[38;5;28;01mTrue\u001b[39;00m)\n\u001b[1;32m      5\u001b[0m \u001b[38;5;28mprint\u001b[39m(\u001b[38;5;124mf\u001b[39m\u001b[38;5;124m\"\u001b[39m\u001b[38;5;130;01m\\n\u001b[39;00m\u001b[38;5;132;01m{\u001b[39;00mtime\u001b[38;5;241m.\u001b[39mtime()\u001b[38;5;250m \u001b[39m\u001b[38;5;241m-\u001b[39m\u001b[38;5;250m \u001b[39mt_i\u001b[38;5;132;01m:\u001b[39;00m\u001b[38;5;124m.3f\u001b[39m\u001b[38;5;132;01m}\u001b[39;00m\u001b[38;5;124m seconds\u001b[39m\u001b[38;5;124m\"\u001b[39m)\n",
      "File \u001b[0;32m~/connor/code/crc.py:1347\u001b[0m, in \u001b[0;36mp1peline\u001b[0;34m(waveforms, scenario, n, mode, tolerance, plotting, saving)\u001b[0m\n\u001b[1;32m   1345\u001b[0m \u001b[38;5;28;01mif\u001b[39;00m saving:\n\u001b[1;32m   1346\u001b[0m     \u001b[38;5;28mprint\u001b[39m(\u001b[38;5;124mf\u001b[39m\u001b[38;5;124m'\u001b[39m\u001b[38;5;124msaving \u001b[39m\u001b[38;5;132;01m{\u001b[39;00mmode\u001b[38;5;132;01m}\u001b[39;00m\u001b[38;5;124m \u001b[39m\u001b[38;5;132;01m{\u001b[39;00mcomponent\u001b[38;5;132;01m}\u001b[39;00m\u001b[38;5;124m'\u001b[39m)\n\u001b[0;32m-> 1347\u001b[0m     save_bits(scenario, mode, n, component, param_indexes, time_indexes, B, B_log)\n\u001b[1;32m   1348\u001b[0m \u001b[38;5;28;01mif\u001b[39;00m plotting:\n\u001b[1;32m   1349\u001b[0m     \u001b[38;5;28mprint\u001b[39m(\u001b[38;5;124mf\u001b[39m\u001b[38;5;124m'\u001b[39m\u001b[38;5;124mplotting \u001b[39m\u001b[38;5;132;01m{\u001b[39;00mmode\u001b[38;5;132;01m}\u001b[39;00m\u001b[38;5;124m \u001b[39m\u001b[38;5;132;01m{\u001b[39;00mcomponent\u001b[38;5;132;01m}\u001b[39;00m\u001b[38;5;124m'\u001b[39m)\n",
      "\u001b[0;31mNameError\u001b[0m: name 'B_log' is not defined"
     ]
    }
   ],
   "source": [
    "%load_ext autoreload\n",
    "%autoreload\n",
    "t_i = time.time()\n",
    "crc.p1peline(waveforms, scenario, n, mode, tolerance = 1e-6, plotting = True, saving = True)\n",
    "print(f\"\\n{time.time() - t_i:.3f} seconds\")"
   ]
  },
  {
   "cell_type": "code",
   "execution_count": null,
   "id": "492156fd-16de-4482-93a6-1f175f426c97",
   "metadata": {},
   "outputs": [],
   "source": [
    "#### %load_ext autoreload\n",
    "%autoreload\n",
    "components = ['A', 'phi']\n",
    "t_i = time.time()\n",
    "for component in components:\n",
    "    crc.p2peline_test(scenario, n, mode, component, saving = True, plotting = True)\n",
    "print(f\"\\n{time.time() - t_i:.3f} seconds\")"
   ]
  },
  {
   "cell_type": "code",
   "execution_count": 9,
   "id": "4e1f2241-defc-4b28-bd2b-27b95f384644",
   "metadata": {},
   "outputs": [
    {
     "name": "stdout",
     "output_type": "stream",
     "text": [
      "The autoreload extension is already loaded. To reload it, use:\n",
      "  %reload_ext autoreload\n",
      "(1000, 1)\n",
      "32/32 [==============================] - 0s 795us/step\n",
      "32/32 [==============================] - 0s 832us/step\n",
      "(1000, 11) (1000, 28)\n"
     ]
    },
    {
     "ename": "ValueError",
     "evalue": "operands could not be broadcast together with shapes (1000,28) (1000,11) ",
     "output_type": "error",
     "traceback": [
      "\u001b[0;31m---------------------------------------------------------------------------\u001b[0m",
      "\u001b[0;31mValueError\u001b[0m                                Traceback (most recent call last)",
      "Cell \u001b[0;32mIn[9], line 4\u001b[0m\n\u001b[1;32m      2\u001b[0m get_ipython()\u001b[38;5;241m.\u001b[39mrun_line_magic(\u001b[38;5;124m'\u001b[39m\u001b[38;5;124mautoreload\u001b[39m\u001b[38;5;124m'\u001b[39m, \u001b[38;5;124m'\u001b[39m\u001b[38;5;124m'\u001b[39m)\n\u001b[1;32m      3\u001b[0m t_i \u001b[38;5;241m=\u001b[39m time\u001b[38;5;241m.\u001b[39mtime()\n\u001b[0;32m----> 4\u001b[0m mismatches \u001b[38;5;241m=\u001b[39m crc\u001b[38;5;241m.\u001b[39mp3peline(scenario, n, mode, plotting \u001b[38;5;241m=\u001b[39m \u001b[38;5;28;01mTrue\u001b[39;00m)\n\u001b[1;32m      5\u001b[0m \u001b[38;5;28mprint\u001b[39m(\u001b[38;5;124mf\u001b[39m\u001b[38;5;124m\"\u001b[39m\u001b[38;5;130;01m\\n\u001b[39;00m\u001b[38;5;132;01m{\u001b[39;00mtime\u001b[38;5;241m.\u001b[39mtime()\u001b[38;5;250m \u001b[39m\u001b[38;5;241m-\u001b[39m\u001b[38;5;250m \u001b[39mt_i\u001b[38;5;132;01m:\u001b[39;00m\u001b[38;5;124m.3f\u001b[39m\u001b[38;5;132;01m}\u001b[39;00m\u001b[38;5;124m seconds\u001b[39m\u001b[38;5;124m\"\u001b[39m)\n",
      "File \u001b[0;32m~/connor/code/crc.py:1715\u001b[0m, in \u001b[0;36mp3peline\u001b[0;34m(scenario, n, mode, plotting)\u001b[0m\n\u001b[1;32m   1711\u001b[0m     reconstructed_phi[i]  \u001b[38;5;241m+\u001b[39m\u001b[38;5;241m=\u001b[39m Ih_phi\n\u001b[1;32m   1713\u001b[0m     reconstructed_full[i] \u001b[38;5;241m+\u001b[39m\u001b[38;5;241m=\u001b[39m Ih_A \u001b[38;5;241m*\u001b[39m np\u001b[38;5;241m.\u001b[39mexp(\u001b[38;5;241m1\u001b[39mj \u001b[38;5;241m*\u001b[39m Ih_phi)\n\u001b[0;32m-> 1715\u001b[0m mse_A, mse_phi \u001b[38;5;241m=\u001b[39m (np\u001b[38;5;241m.\u001b[39msquare(predict_A \u001b[38;5;241m-\u001b[39m y_data_A))\u001b[38;5;241m.\u001b[39mmean(axis\u001b[38;5;241m=\u001b[39m\u001b[38;5;241m1\u001b[39m), (np\u001b[38;5;241m.\u001b[39msquare(predict_phi \u001b[38;5;241m-\u001b[39m y_data_phi))\u001b[38;5;241m.\u001b[39mmean(axis\u001b[38;5;241m=\u001b[39m\u001b[38;5;241m1\u001b[39m)\n\u001b[1;32m   1716\u001b[0m ind_A, ind_phi \u001b[38;5;241m=\u001b[39m np\u001b[38;5;241m.\u001b[39mwhere(np\u001b[38;5;241m.\u001b[39mmax(mse_A) \u001b[38;5;241m==\u001b[39m mse_A)[\u001b[38;5;241m0\u001b[39m][\u001b[38;5;241m0\u001b[39m], np\u001b[38;5;241m.\u001b[39mwhere(np\u001b[38;5;241m.\u001b[39mmax(mse_phi) \u001b[38;5;241m==\u001b[39m mse_phi)[\u001b[38;5;241m0\u001b[39m][\u001b[38;5;241m0\u001b[39m]\n\u001b[1;32m   1717\u001b[0m mm_A, mm_phi   \u001b[38;5;241m=\u001b[39m mismatch(reconstructed_A[ind_A], A_test[\u001b[38;5;28mlist\u001b[39m(A_test\u001b[38;5;241m.\u001b[39mkeys())[ind_A]]), mismatch(reconstructed_phi[ind_phi], phi_test[\u001b[38;5;28mlist\u001b[39m(phi_test\u001b[38;5;241m.\u001b[39mkeys())[ind_phi]])\n",
      "\u001b[0;31mValueError\u001b[0m: operands could not be broadcast together with shapes (1000,28) (1000,11) "
     ]
    }
   ],
   "source": [
    "%load_ext autoreload\n",
    "%autoreload\n",
    "t_i = time.time()\n",
    "mismatches = crc.p3peline(scenario, n, mode, plotting = True)\n",
    "print(f\"\\n{time.time() - t_i:.3f} seconds\")"
   ]
  },
  {
   "cell_type": "code",
   "execution_count": 24,
   "id": "cf25561a-648b-4592-8a06-9fd6fea80348",
   "metadata": {},
   "outputs": [],
   "source": [
    "# %load_ext autoreload\n",
    "# %autoreload\n",
    "# t_i = time.time()\n",
    "# fig, ax = plt.subplots(ncols = 1, nrows = 1, figsize = (10, 3))\n",
    "# ax.hist(mismatches, bins = 10, color = crc.get_colours(), label = f\"mismatches\")\n",
    "# ax.legend()\n",
    "# fig.tight_layout()\n",
    "# print(f\"\\n{time.time() - t_i:.3f} seconds\")"
   ]
  },
  {
   "cell_type": "code",
   "execution_count": null,
   "id": "dbed90a3-8021-4520-a270-27f4f16336a3",
   "metadata": {},
   "outputs": [],
   "source": []
  }
 ],
 "metadata": {
  "kernelspec": {
   "display_name": "igwn-py311-2023 (Conda)",
   "language": "python",
   "name": "sys_igwn-py311-2023"
  },
  "language_info": {
   "codemirror_mode": {
    "name": "ipython",
    "version": 3
   },
   "file_extension": ".py",
   "mimetype": "text/x-python",
   "name": "python",
   "nbconvert_exporter": "python",
   "pygments_lexer": "ipython3",
   "version": "3.11.6"
  }
 },
 "nbformat": 4,
 "nbformat_minor": 5
}
