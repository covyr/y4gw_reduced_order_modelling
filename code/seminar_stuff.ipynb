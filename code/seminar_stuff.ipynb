{
 "cells": [
  {
   "cell_type": "code",
   "execution_count": 3,
   "id": "4c8a3e50-360d-4e92-8a70-d5cd2a9988c7",
   "metadata": {},
   "outputs": [],
   "source": [
    "import numpy as np\n",
    "import matplotlib.pyplot as plt\n",
    "import crc"
   ]
  },
  {
   "cell_type": "code",
   "execution_count": null,
   "id": "b27a5345-ca64-41ee-8561-785b3b0f077c",
   "metadata": {},
   "outputs": [],
   "source": [
    "scenario = 'AS'\n",
    "n = 1 # test: 1,000\n",
    "components = ['full', 'A', 'phi']"
   ]
  },
  {
   "cell_type": "code",
   "execution_count": null,
   "id": "68914106-13cb-40aa-893d-5c69a7e81ad0",
   "metadata": {},
   "outputs": [],
   "source": [
    "# show how mass ratio changes morphology for a given mode\n",
    "mode = '2,2'"
   ]
  },
  {
   "cell_type": "code",
   "execution_count": null,
   "id": "8e060b05-2a0f-4bff-b39d-7c18b3bfd612",
   "metadata": {},
   "outputs": [],
   "source": [
    "# show how mass ratio effects morphology for different modes\n",
    "# 1 plot in symmetric mass limit & 1 with asymmetric masses"
   ]
  }
 ],
 "metadata": {
  "kernelspec": {
   "display_name": "igwn-py311-2023 (Conda)",
   "language": "python",
   "name": "sys_igwn-py311-2023"
  },
  "language_info": {
   "codemirror_mode": {
    "name": "ipython",
    "version": 3
   },
   "file_extension": ".py",
   "mimetype": "text/x-python",
   "name": "python",
   "nbconvert_exporter": "python",
   "pygments_lexer": "ipython3",
   "version": "3.11.6"
  }
 },
 "nbformat": 4,
 "nbformat_minor": 5
}
